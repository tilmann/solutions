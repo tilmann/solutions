{
 "metadata": {
  "language_info": {
   "codemirror_mode": {
    "name": "ipython",
    "version": 3
   },
   "file_extension": ".py",
   "mimetype": "text/x-python",
   "name": "python",
   "nbconvert_exporter": "python",
   "pygments_lexer": "ipython3",
   "version": "3.8.5-final"
  },
  "orig_nbformat": 2,
  "kernelspec": {
   "name": "python3",
   "display_name": "Python 3",
   "language": "python"
  }
 },
 "nbformat": 4,
 "nbformat_minor": 2,
 "cells": [
  {
   "cell_type": "code",
   "execution_count": 3,
   "metadata": {},
   "outputs": [],
   "source": [
    "import solution.factory\n",
    "solutions = solution.factory.all_solutions_scenarios()\n"
   ]
  },
  {
   "cell_type": "code",
   "execution_count": 4,
   "metadata": {},
   "outputs": [
    {
     "output_type": "execute_result",
     "data": {
      "text/plain": [
       "Year\n",
       "2056    2.871195e+07\n",
       "2057    2.946272e+07\n",
       "2058    3.023243e+07\n",
       "2059    3.102143e+07\n",
       "2060    3.183007e+07\n",
       "Name: World, dtype: float64"
      ]
     },
     "metadata": {},
     "execution_count": 4
    }
   ],
   "source": [
    "trucks = solutions[\"trucks\"][0]()\n",
    "#trucks.ht.pds_adoption_data_per_region['World'].tail()\n",
    "trucks.ht.pds_adoption_data_per_region"
   ]
  },
  {
   "cell_type": "code",
   "execution_count": 5,
   "metadata": {},
   "outputs": [
    {
     "output_type": "stream",
     "name": "stderr",
     "text": [
      "/home/ubuntu/.local/share/virtualenvs/solutions-Qnh-Z8am/lib/python3.8/site-packages/pandas/core/series.py:726: RuntimeWarning: invalid value encountered in minimum\n  result = getattr(ufunc, method)(*inputs, **kwargs)\n/home/ubuntu/.local/share/virtualenvs/solutions-Qnh-Z8am/lib/python3.8/site-packages/numpy/core/fromnumeric.py:87: RuntimeWarning: invalid value encountered in reduce\n  return ufunc.reduce(obj, axis, dtype, out, **passkwargs)\n"
     ]
    },
    {
     "output_type": "execute_result",
     "data": {
      "text/plain": [
       "2056    9.042183e+06\n",
       "2057    9.170880e+06\n",
       "2058    9.299577e+06\n",
       "2059    9.428274e+06\n",
       "2060    9.556971e+06\n",
       "Name: World, dtype: float64"
      ]
     },
     "metadata": {},
     "execution_count": 5
    }
   ],
   "source": [
    "trains = solutions[\"trains\"][0]()\n",
    "trains.ht.pds_adoption_data_per_region['World'].tail()"
   ]
  },
  {
   "cell_type": "code",
   "execution_count": 6,
   "metadata": {},
   "outputs": [
    {
     "output_type": "execute_result",
     "data": {
      "text/plain": [
       "Year\n",
       "2056    185269.115282\n",
       "2057    192696.290121\n",
       "2058    200451.292243\n",
       "2059    208542.944854\n",
       "2060    216980.071157\n",
       "Name: World, dtype: float64"
      ]
     },
     "metadata": {},
     "execution_count": 6
    }
   ],
   "source": [
    "ships = solutions[\"ships\"][0]()\n",
    "ships.ht.pds_adoption_data_per_region['World'].tail()"
   ]
  },
  {
   "cell_type": "code",
   "execution_count": 7,
   "metadata": {},
   "outputs": [],
   "source": [
    "baseline_values = [[111304101],   \n",
    "[114809282],   \n",
    "[119293206],   \n",
    "[121312310],   \n",
    "[125320334],   \n",
    "[130995519],   \n",
    "[135887669],   \n",
    "[139263493],   \n",
    "[143439617],   \n",
    "[149227058],   \n",
    "[154566203],   \n",
    "[160166726],   \n",
    "[166046016],   \n",
    "[172231911],   \n",
    "[178710364],   \n",
    "[185530068],   \n",
    "[192697916],   \n",
    "[200231267],   \n",
    "[206140575],   \n",
    "[216463901],   \n",
    "[225197889],   \n",
    "[234366816],   \n",
    "[243988062],   \n",
    "[254040124],   \n",
    "[264657000],   \n",
    "[275739405],   \n",
    "[287343597],   \n",
    "[299486959],   \n",
    "[313232199],   \n",
    "[325460675],   \n",
    "[339325731],   \n",
    "[353799349],   \n",
    "[368898825],   \n",
    "[384653303],   \n",
    "[401044573],   \n",
    "[418125492],   \n",
    "[435901525],   \n",
    "[454389978],   \n",
    "[473476431],   \n",
    "[493573367],   \n",
    "[514302927],   \n",
    "[535814049],   \n",
    "[558123920],   \n",
    "[581249753],   \n",
    "[605208827],   \n",
    "[630018479],   \n",
    "[655696059],   \n",
    "[682258946],   \n",
    "[709724529]]\n"
   ]
  },
  {
   "cell_type": "code",
   "execution_count": 8,
   "metadata": {},
   "outputs": [
    {
     "output_type": "execute_result",
     "data": {
      "text/plain": [
       "      Average of Baseline TAMs\n",
       "2012                 111304101\n",
       "2013                 114809282\n",
       "2014                 119293206\n",
       "2015                 121312310\n",
       "2016                 125320334"
      ],
      "text/html": "<div>\n<style scoped>\n    .dataframe tbody tr th:only-of-type {\n        vertical-align: middle;\n    }\n\n    .dataframe tbody tr th {\n        vertical-align: top;\n    }\n\n    .dataframe thead th {\n        text-align: right;\n    }\n</style>\n<table border=\"1\" class=\"dataframe\">\n  <thead>\n    <tr style=\"text-align: right;\">\n      <th></th>\n      <th>Average of Baseline TAMs</th>\n    </tr>\n  </thead>\n  <tbody>\n    <tr>\n      <th>2012</th>\n      <td>111304101</td>\n    </tr>\n    <tr>\n      <th>2013</th>\n      <td>114809282</td>\n    </tr>\n    <tr>\n      <th>2014</th>\n      <td>119293206</td>\n    </tr>\n    <tr>\n      <th>2015</th>\n      <td>121312310</td>\n    </tr>\n    <tr>\n      <th>2016</th>\n      <td>125320334</td>\n    </tr>\n  </tbody>\n</table>\n</div>"
     },
     "metadata": {},
     "execution_count": 8
    }
   ],
   "source": [
    "import pandas as pd\n",
    "baseline_df = pd.DataFrame(baseline_values, columns=['Average of Baseline TAMs'], index=range(2012, 2061))\n",
    "baseline_df.head()"
   ]
  },
  {
   "cell_type": "code",
   "execution_count": 9,
   "metadata": {},
   "outputs": [
    {
     "output_type": "execute_result",
     "data": {
      "text/plain": [
       "'1.1.4'"
      ]
     },
     "metadata": {},
     "execution_count": 9
    }
   ],
   "source": [
    "pd.__version__"
   ]
  },
  {
   "cell_type": "code",
   "execution_count": 10,
   "metadata": {},
   "outputs": [
    {
     "output_type": "execute_result",
     "data": {
      "text/plain": [
       "      Average of Baseline TAMs         Trucks         Ships        Trains\n",
       "2056                 605208827  185269.115282  2.871195e+07  9.042183e+06\n",
       "2057                 630018479  192696.290121  2.946272e+07  9.170880e+06\n",
       "2058                 655696059  200451.292243  3.023243e+07  9.299577e+06\n",
       "2059                 682258946  208542.944854  3.102143e+07  9.428274e+06\n",
       "2060                 709724529  216980.071157  3.183007e+07  9.556971e+06"
      ],
      "text/html": "<div>\n<style scoped>\n    .dataframe tbody tr th:only-of-type {\n        vertical-align: middle;\n    }\n\n    .dataframe tbody tr th {\n        vertical-align: top;\n    }\n\n    .dataframe thead th {\n        text-align: right;\n    }\n</style>\n<table border=\"1\" class=\"dataframe\">\n  <thead>\n    <tr style=\"text-align: right;\">\n      <th></th>\n      <th>Average of Baseline TAMs</th>\n      <th>Trucks</th>\n      <th>Ships</th>\n      <th>Trains</th>\n    </tr>\n  </thead>\n  <tbody>\n    <tr>\n      <th>2056</th>\n      <td>605208827</td>\n      <td>185269.115282</td>\n      <td>2.871195e+07</td>\n      <td>9.042183e+06</td>\n    </tr>\n    <tr>\n      <th>2057</th>\n      <td>630018479</td>\n      <td>192696.290121</td>\n      <td>2.946272e+07</td>\n      <td>9.170880e+06</td>\n    </tr>\n    <tr>\n      <th>2058</th>\n      <td>655696059</td>\n      <td>200451.292243</td>\n      <td>3.023243e+07</td>\n      <td>9.299577e+06</td>\n    </tr>\n    <tr>\n      <th>2059</th>\n      <td>682258946</td>\n      <td>208542.944854</td>\n      <td>3.102143e+07</td>\n      <td>9.428274e+06</td>\n    </tr>\n    <tr>\n      <th>2060</th>\n      <td>709724529</td>\n      <td>216980.071157</td>\n      <td>3.183007e+07</td>\n      <td>9.556971e+06</td>\n    </tr>\n  </tbody>\n</table>\n</div>"
     },
     "metadata": {},
     "execution_count": 10
    }
   ],
   "source": [
    "ship_vals = ships.ht.pds_adoption_data_per_region['World']\n",
    "truck_vals = trucks.ht.pds_adoption_data_per_region['World']\n",
    "train_vals = trains.ht.pds_adoption_data_per_region['World']\n",
    "df = pd.concat([baseline_df, ship_vals, truck_vals, train_vals], axis=1)\n",
    "df.columns = ['Average of Baseline TAMs', 'Trucks', 'Ships', 'Trains']\n",
    "df.tail()"
   ]
  },
  {
   "cell_type": "code",
   "execution_count": 11,
   "metadata": {},
   "outputs": [
    {
     "output_type": "execute_result",
     "data": {
      "text/plain": [
       "      Average of Baseline TAMs         Trucks         Ships        Trains  Remaining mtonne-kms  Remaining %\n",
       "2056                 605208827  185269.115282  2.871195e+07  9.042183e+06          5.672694e+08     0.937312\n",
       "2057                 630018479  192696.290121  2.946272e+07  9.170880e+06          5.911922e+08     0.938373\n",
       "2058                 655696059  200451.292243  3.023243e+07  9.299577e+06          6.159636e+08     0.939404\n",
       "2059                 682258946  208542.944854  3.102143e+07  9.428274e+06          6.416007e+08     0.940406\n",
       "2060                 709724529  216980.071157  3.183007e+07  9.556971e+06          6.681205e+08     0.941380"
      ],
      "text/html": "<div>\n<style scoped>\n    .dataframe tbody tr th:only-of-type {\n        vertical-align: middle;\n    }\n\n    .dataframe tbody tr th {\n        vertical-align: top;\n    }\n\n    .dataframe thead th {\n        text-align: right;\n    }\n</style>\n<table border=\"1\" class=\"dataframe\">\n  <thead>\n    <tr style=\"text-align: right;\">\n      <th></th>\n      <th>Average of Baseline TAMs</th>\n      <th>Trucks</th>\n      <th>Ships</th>\n      <th>Trains</th>\n      <th>Remaining mtonne-kms</th>\n      <th>Remaining %</th>\n    </tr>\n  </thead>\n  <tbody>\n    <tr>\n      <th>2056</th>\n      <td>605208827</td>\n      <td>185269.115282</td>\n      <td>2.871195e+07</td>\n      <td>9.042183e+06</td>\n      <td>5.672694e+08</td>\n      <td>0.937312</td>\n    </tr>\n    <tr>\n      <th>2057</th>\n      <td>630018479</td>\n      <td>192696.290121</td>\n      <td>2.946272e+07</td>\n      <td>9.170880e+06</td>\n      <td>5.911922e+08</td>\n      <td>0.938373</td>\n    </tr>\n    <tr>\n      <th>2058</th>\n      <td>655696059</td>\n      <td>200451.292243</td>\n      <td>3.023243e+07</td>\n      <td>9.299577e+06</td>\n      <td>6.159636e+08</td>\n      <td>0.939404</td>\n    </tr>\n    <tr>\n      <th>2059</th>\n      <td>682258946</td>\n      <td>208542.944854</td>\n      <td>3.102143e+07</td>\n      <td>9.428274e+06</td>\n      <td>6.416007e+08</td>\n      <td>0.940406</td>\n    </tr>\n    <tr>\n      <th>2060</th>\n      <td>709724529</td>\n      <td>216980.071157</td>\n      <td>3.183007e+07</td>\n      <td>9.556971e+06</td>\n      <td>6.681205e+08</td>\n      <td>0.941380</td>\n    </tr>\n  </tbody>\n</table>\n</div>"
     },
     "metadata": {},
     "execution_count": 11
    }
   ],
   "source": [
    "df['Remaining mtonne-kms'] = df['Average of Baseline TAMs'] - df['Trucks'] - df['Ships'] - df['Trains']\n",
    "df['Remaining %'] = df['Remaining mtonne-kms']/df['Average of Baseline TAMs']\n",
    "df.tail()"
   ]
  },
  {
   "cell_type": "code",
   "execution_count": 11,
   "metadata": {},
   "outputs": [],
   "source": [
    "\n"
   ]
  },
  {
   "cell_type": "code",
   "execution_count": null,
   "metadata": {},
   "outputs": [],
   "source": []
  }
 ]
}