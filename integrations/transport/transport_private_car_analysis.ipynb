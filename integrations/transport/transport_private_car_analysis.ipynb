{
 "metadata": {
  "language_info": {
   "codemirror_mode": {
    "name": "ipython",
    "version": 3
   },
   "file_extension": ".py",
   "mimetype": "text/x-python",
   "name": "python",
   "nbconvert_exporter": "python",
   "pygments_lexer": "ipython3",
   "version": "3.8.5-final"
  },
  "orig_nbformat": 2,
  "kernelspec": {
   "name": "python3",
   "display_name": "Python 3.8.5 64-bit",
   "metadata": {
    "interpreter": {
     "hash": "31f2aee4e71d21fbe5cf8b01ff0e069b9275f58929596ceb00d14d90e3e16cd6"
    }
   }
  }
 },
 "nbformat": 4,
 "nbformat_minor": 2,
 "cells": [
  {
   "cell_type": "code",
   "execution_count": 5,
   "metadata": {},
   "outputs": [],
   "source": [
    "import solution.factory\n",
    "solutions = solution.factory.all_solutions_scenarios()"
   ]
  },
  {
   "cell_type": "code",
   "execution_count": 23,
   "metadata": {},
   "outputs": [],
   "source": [
    "# Loading the solutions\n",
    "carpooling = solutions[\"carpooling\"][0]()\n",
    "electricvehicles = solutions[\"electricvehicles\"][0]()\n",
    "hybridcars = solutions[\"hybridcars\"][0]()"
   ]
  },
  {
   "cell_type": "code",
   "execution_count": 35,
   "metadata": {},
   "outputs": [
    {
     "output_type": "stream",
     "name": "stdout",
     "text": [
      "AdvancedControls(solution_category=<SOLUTION_CATEGORY.REDUCTION: 2>, vmas={'Current Adoption': <model.vma.VMA object at 0x7f62db484460>, 'CONVENTIONAL First Cost per Implementation Unit': <model.vma.VMA object at 0x7f62db484e50>, 'SOLUTION First Cost per Implementation Unit': <model.vma.VMA object at 0x7f62db4849d0>, 'CONVENTIONAL Lifetime Capacity': <model.vma.VMA object at 0x7f62db4a3730>, 'SOLUTION Lifetime Capacity': <model.vma.VMA object at 0x7f62db4a3af0>, 'CONVENTIONAL Average Annual Use': <model.vma.VMA object at 0x7f62db4a3c10>, 'SOLUTION Average Annual Use': <model.vma.VMA object at 0x7f62db4ad670>, 'CONVENTIONAL Variable Operating Cost (VOM) per Functional Unit': <model.vma.VMA object at 0x7f62db4add00>, 'SOLUTION Variable Operating Cost (VOM) per Functional Unit': <model.vma.VMA object at 0x7f62db4add90>, 'CONVENTIONAL Fixed Operating Cost (FOM)': <model.vma.VMA object at 0x7f62db4b8670>, 'SOLUTION Fixed Operating Cost (FOM)': <model.vma.VMA object at 0x7f62db4b8a30>, 'CONVENTIONAL Total Energy Used per Functional Unit': <model.vma.VMA object at 0x7f62db4b8520>, 'SOLUTION Energy Efficiency Factor': <model.vma.VMA object at 0x7f62db4b8f70>, 'SOLUTION Total Energy Used per Functional Unit': <model.vma.VMA object at 0x7f62db4b8dc0>, 'CONVENTIONAL Fuel Consumed per Functional Unit': <model.vma.VMA object at 0x7f62db443490>, 'SOLUTION Fuel Efficiency Factor': <model.vma.VMA object at 0x7f62db443a90>, 'CONVENTIONAL Direct Emissions per Functional Unit': <model.vma.VMA object at 0x7f62db443b80>, 'SOLUTION Direct Emissions per Functional Unit': <model.vma.VMA object at 0x7f62db44a2b0>, 'CONVENTIONAL Indirect CO2 Emissions per Unit': <model.vma.VMA object at 0x7f62db44a550>, 'SOLUTION Indirect CO2 Emissions per Unit': <model.vma.VMA object at 0x7f62db44ab50>, 'CH4-CO2eq Tons Reduced': <model.vma.VMA object at 0x7f62db44aa00>, 'N2O-CO2eq Tons Reduced': <model.vma.VMA object at 0x7f62db44af40>, 'CONVENTIONAL Revenue per Functional Unit': <model.vma.VMA object at 0x7f62db452340>, 'SOLUTION Revenue per Functional Unit': <model.vma.VMA object at 0x7f62db4525b0>, 'Normal Car Occupancy': <model.vma.VMA object at 0x7f62db452850>, 'Threshold City Density for Marked Increase in Walking': <model.vma.VMA object at 0x7f62db452d60>, 'Walking Mode Share of Dense Cities': <model.vma.VMA object at 0x7f62db45b2b0>, 'Walking Mode Share of non-dense Cities': <model.vma.VMA object at 0x7f62db45b9d0>, 'ICE Car Lifetime': <model.vma.VMA object at 0x7f62db45bf40>, 'Discount Rates - Households': <model.vma.VMA object at 0x7f62db463550>, 'Car Depreciation (First) Costs': <model.vma.VMA object at 0x7f62db463af0>, 'Car Insurance Costs': <model.vma.VMA object at 0x7f62db463c10>, 'Annual Rate of Urban Density Decline': <model.vma.VMA object at 0x7f62db471670>}, vma_values=None, name='PDS3-10p2050-linear Growth', description='We project a straight linear growth in passenger-km to 10% of the global urban mobility in 2050.', js={'name': 'PDS3-10p2050-linear Growth', 'solution_category': 'reduction', 'vmas': 'VMAs', 'description': 'We project a straight linear growth in passenger-km to 10% of the global urban mobility in 2050.', 'report_start_year': 2020, 'report_end_year': 2050, 'conv_2014_cost': {'value': 0.0, 'statistic': ''}, 'conv_first_cost_efficiency_rate': 0.0, 'conv_lifetime_capacity': {'value': 1.4162003604e-08, 'statistic': ''}, 'conv_avg_annual_use': {'value': 1.4162003604e-08, 'statistic': ''}, 'conv_var_oper_cost_per_funit': {'value': 11732406.139444258, 'statistic': ''}, 'conv_fixed_oper_cost_per_iunit': {'value': 1.5598999929152975, 'statistic': ''}, 'conv_fuel_cost_per_funit': 54829497.5363255, 'pds_2014_cost': {'value': 0.0, 'statistic': ''}, 'ref_2014_cost': {'value': 0.0, 'statistic': ''}, 'soln_first_cost_efficiency_rate': 0.0, 'soln_first_cost_below_conv': True, 'soln_lifetime_capacity': {'value': 1.6209874133333332e-09, 'statistic': ''}, 'soln_avg_annual_use': {'value': 1.6209874133333332e-09, 'statistic': ''}, 'soln_var_oper_cost_per_funit': {'value': 0.0, 'statistic': ''}, 'soln_fixed_oper_cost_per_iunit': {'value': 0.0, 'statistic': ''}, 'soln_fuel_cost_per_funit': 0.0, 'npv_discount_rate': 0.04, 'conv_annual_energy_used': {'value': 0.0, 'statistic': ''}, 'soln_energy_efficiency_factor': {'value': 0.0, 'statistic': ''}, 'soln_annual_energy_used': {'value': 0.0, 'statistic': ''}, 'conv_fuel_consumed_per_funit': {'value': 52941803.479383595, 'statistic': ''}, 'soln_fuel_efficiency_factor': {'value': 1.0, 'statistic': ''}, 'conv_fuel_emissions_factor': {'value': 0.002273941593, 'statistic': ''}, 'soln_fuel_emissions_factor': {'value': 0.0, 'statistic': ''}, 'conv_emissions_per_funit': {'value': 0.0, 'statistic': ''}, 'soln_emissions_per_funit': {'value': 0.0, 'statistic': ''}, 'conv_indirect_co2_per_unit': {'value': 30976.73458017209, 'statistic': ''}, 'soln_indirect_co2_per_iunit': {'value': 0.0, 'statistic': ''}, 'conv_indirect_co2_is_iunits': False, 'ch4_co2_per_funit': {'value': 0.0, 'statistic': ''}, 'ch4_is_co2eq': False, 'n2o_co2_per_funit': {'value': 0.0, 'statistic': ''}, 'n2o_is_co2eq': False, 'co2eq_conversion_source': 'AR5 with feedback', 'emissions_use_co2eq': True, 'emissions_grid_source': 'Meta-Analysis', 'emissions_grid_range': 'Mean', 'source_until_2014': 'ALL SOURCES', 'ref_source_post_2014': 'Baseline Cases', 'pds_source_post_2014': 'Baseline Cases', 'ref_base_adoption': {'World': 1573.2565357163114, 'OECD90': 205.85584501120192, 'Eastern Europe': 57.71269810953001, 'Asia (Sans Japan)': 0.0, 'Middle East and Africa': 0.0, 'Latin America': 0.0, 'China': 310.14334483044007, 'India': 180.29053359808, 'EU': 0.0, 'USA': 0.0}, 'soln_pds_adoption_basis': 'DEFAULT Linear', 'soln_pds_adoption_regional_data': False, 'pds_adoption_final_percentage': {'World': 0.1, 'OECD90': 0.0, 'Eastern Europe': 0.0, 'Asia (Sans Japan)': 0.0, 'Middle East and Africa': 0.0, 'Latin America': 0.0, 'China': 0.0, 'India': 0.0, 'EU': 0.0, 'USA': 0.0}, 'soln_ref_adoption_basis': 'Custom', 'soln_ref_adoption_custom_name': 'ITDP/ UCDavis (2015) Global Highshift Cycling Scenario - Baseline Case for Walking', 'soln_ref_adoption_regional_data': False, 'pds_adoption_use_ref_years': [2014, 2015, 2016, 2017, 2018]}, jsfile='/home/ubuntu/code/drawdown/solutions/solution/walkablecities/ac/PDS3-10p2050-linear_Growth.json', pds_2014_cost=0.0, ref_2014_cost=0.0, conv_2014_cost=0.0, soln_first_cost_efficiency_rate=0.0, conv_first_cost_efficiency_rate=0.0, soln_first_cost_below_conv=True, soln_energy_efficiency_factor=0.0, conv_annual_energy_used=0.0, soln_annual_energy_used=0.0, conv_fuel_consumed_per_funit=52941803.479383595, soln_fuel_efficiency_factor=1.0, conv_fuel_emissions_factor=0.002273941593, soln_fuel_emissions_factor=0.0, conv_emissions_per_funit=0.0, soln_emissions_per_funit=0.0, ch4_is_co2eq=False, n2o_is_co2eq=False, co2eq_conversion_source=<CO2EQ_SOURCE.AR5_WITH_FEEDBACK: 1>, ch4_co2_per_funit=0.0, n2o_co2_per_funit=0.0, soln_indirect_co2_per_iunit=0.0, conv_indirect_co2_per_unit=30976.73458017209, conv_indirect_co2_is_iunits=False, soln_lifetime_capacity=1.6209874133333332e-09, soln_avg_annual_use=1.6209874133333332e-09, conv_lifetime_capacity=1.4162003604e-08, conv_avg_annual_use=1.4162003604e-08, report_start_year=2020, report_end_year=2050, soln_var_oper_cost_per_funit=0.0, soln_fixed_oper_cost_per_iunit=0.0, soln_fuel_cost_per_funit=0.0, conv_var_oper_cost_per_funit=11732406.139444258, conv_fixed_oper_cost_per_iunit=1.5598999929152975, conv_fuel_cost_per_funit=54829497.5363255, npv_discount_rate=0.04, emissions_use_co2eq=True, emissions_grid_source=<GRID_SOURCE.META: 1>, emissions_grid_range=<GRID_RANGE.MEAN: 1>, soln_ref_adoption_regional_data=False, soln_pds_adoption_regional_data=False, soln_ref_adoption_basis='Custom', soln_ref_adoption_custom_name='ITDP/ UCDavis (2015) Global Highshift Cycling Scenario - Baseline Case for Walking', soln_pds_adoption_basis='Linear', soln_pds_adoption_custom_name=None, soln_pds_adoption_custom_high_sd_mult=1.0, soln_pds_adoption_custom_low_sd_mult=1.0, soln_pds_adoption_prognostication_source=None, soln_pds_adoption_prognostication_trend=None, soln_pds_adoption_prognostication_growth=None, pds_source_post_2014='Baseline Cases', ref_source_post_2014='Baseline Cases', source_until_2014='ALL SOURCES', ref_adoption_use_pds_years=[], pds_adoption_use_ref_years=[2014, 2015, 2016, 2017, 2018], pds_base_adoption=None, ref_base_adoption={'World': 1573.2565357163114, 'OECD90': 205.85584501120192, 'Eastern Europe': 57.71269810953001, 'Asia (Sans Japan)': 0.0, 'Middle East and Africa': 0.0, 'Latin America': 0.0, 'China': 310.14334483044007, 'India': 180.29053359808, 'EU': 0.0, 'USA': 0.0}, pds_adoption_final_percentage={'World': 0.1, 'OECD90': 0.0, 'Eastern Europe': 0.0, 'Asia (Sans Japan)': 0.0, 'Middle East and Africa': 0.0, 'Latin America': 0.0, 'China': 0.0, 'India': 0.0, 'EU': 0.0, 'USA': 0.0}, pds_adoption_s_curve_innovation=None, pds_adoption_s_curve_imitation=None, tco2eq_reduced_per_land_unit=None, tco2eq_rplu_rate=None, tco2_rplu_rate=None, tn2o_co2_rplu_rate=None, tch4_co2_rplu_rate=None, tco2_reduced_per_land_unit=None, tn2o_co2_reduced_per_land_unit=None, tch4_co2_reduced_per_land_unit=None, emissions_use_agg_co2eq=None, seq_rate_global=None, seq_rate_per_regime=None, degradation_rate=None, disturbance_rate=None, global_multi_for_regrowth=None, soln_expected_lifetime=None, conv_expected_lifetime=None, yield_from_conv_practice=None, yield_gain_from_conv_to_soln=None, use_custom_tla=None, custom_tla_fixed_value=None, harvest_frequency=None, carbon_not_emitted_after_harvesting=None, avoided_deforest_with_intensification=None, delay_protection_1yr=None, delay_regrowth_1yr=None, include_unprotected_land_in_regrowth_calcs=None, land_annual_emissons_lifetime=None, tC_storage_in_protected_land_type=None)\n{'Current Adoption': <model.vma.VMA object at 0x7f62db484460>, 'CONVENTIONAL First Cost per Implementation Unit': <model.vma.VMA object at 0x7f62db484e50>, 'SOLUTION First Cost per Implementation Unit': <model.vma.VMA object at 0x7f62db4849d0>, 'CONVENTIONAL Lifetime Capacity': <model.vma.VMA object at 0x7f62db4a3730>, 'SOLUTION Lifetime Capacity': <model.vma.VMA object at 0x7f62db4a3af0>, 'CONVENTIONAL Average Annual Use': <model.vma.VMA object at 0x7f62db4a3c10>, 'SOLUTION Average Annual Use': <model.vma.VMA object at 0x7f62db4ad670>, 'CONVENTIONAL Variable Operating Cost (VOM) per Functional Unit': <model.vma.VMA object at 0x7f62db4add00>, 'SOLUTION Variable Operating Cost (VOM) per Functional Unit': <model.vma.VMA object at 0x7f62db4add90>, 'CONVENTIONAL Fixed Operating Cost (FOM)': <model.vma.VMA object at 0x7f62db4b8670>, 'SOLUTION Fixed Operating Cost (FOM)': <model.vma.VMA object at 0x7f62db4b8a30>, 'CONVENTIONAL Total Energy Used per Functional Unit': <model.vma.VMA object at 0x7f62db4b8520>, 'SOLUTION Energy Efficiency Factor': <model.vma.VMA object at 0x7f62db4b8f70>, 'SOLUTION Total Energy Used per Functional Unit': <model.vma.VMA object at 0x7f62db4b8dc0>, 'CONVENTIONAL Fuel Consumed per Functional Unit': <model.vma.VMA object at 0x7f62db443490>, 'SOLUTION Fuel Efficiency Factor': <model.vma.VMA object at 0x7f62db443a90>, 'CONVENTIONAL Direct Emissions per Functional Unit': <model.vma.VMA object at 0x7f62db443b80>, 'SOLUTION Direct Emissions per Functional Unit': <model.vma.VMA object at 0x7f62db44a2b0>, 'CONVENTIONAL Indirect CO2 Emissions per Unit': <model.vma.VMA object at 0x7f62db44a550>, 'SOLUTION Indirect CO2 Emissions per Unit': <model.vma.VMA object at 0x7f62db44ab50>, 'CH4-CO2eq Tons Reduced': <model.vma.VMA object at 0x7f62db44aa00>, 'N2O-CO2eq Tons Reduced': <model.vma.VMA object at 0x7f62db44af40>, 'CONVENTIONAL Revenue per Functional Unit': <model.vma.VMA object at 0x7f62db452340>, 'SOLUTION Revenue per Functional Unit': <model.vma.VMA object at 0x7f62db4525b0>, 'Normal Car Occupancy': <model.vma.VMA object at 0x7f62db452850>, 'Threshold City Density for Marked Increase in Walking': <model.vma.VMA object at 0x7f62db452d60>, 'Walking Mode Share of Dense Cities': <model.vma.VMA object at 0x7f62db45b2b0>, 'Walking Mode Share of non-dense Cities': <model.vma.VMA object at 0x7f62db45b9d0>, 'ICE Car Lifetime': <model.vma.VMA object at 0x7f62db45bf40>, 'Discount Rates - Households': <model.vma.VMA object at 0x7f62db463550>, 'Car Depreciation (First) Costs': <model.vma.VMA object at 0x7f62db463af0>, 'Car Insurance Costs': <model.vma.VMA object at 0x7f62db463c10>, 'Annual Rate of Urban Density Decline': <model.vma.VMA object at 0x7f62db471670>}\nPDS3-10p2050-linear Growth\n"
     ]
    }
   ],
   "source": [
    "# Finding the data WIP\n",
    "print(walkablecities.ac)\n",
    "print(walkablecities.vmas)\n",
    "#solution/walkablecities/ac/PDS1-4p2050-Based_on_ITDPUCDavis.json\n",
    "print(walkablecities.scenario)\n",
    "\n"
   ]
  },
  {
   "cell_type": "code",
   "execution_count": 38,
   "metadata": {},
   "outputs": [],
   "source": [
    "# Faking the data Urban Pass Adoption Col G\n",
    "\n",
    "colG = [\n",
    " 1.506,   \n",
    " 1.523,   \n",
    " 1.540,   \n",
    " 1.557,   \n",
    " 1.573,   \n",
    " 1.672,   \n",
    " 1.702,   \n",
    " 1.731,   \n",
    " 1.761,   \n",
    " 1.790,   \n",
    " 1.820,   \n",
    " 1.850,   \n",
    " 1.879,   \n",
    " 1.909,   \n",
    " 1.938,   \n",
    " 1.968,   \n",
    " 1.998,   \n",
    " 2.027,   \n",
    " 2.057,   \n",
    " 2.086,   \n",
    " 2.116,   \n",
    " 2.146,   \n",
    " 2.175,   \n",
    " 2.205,   \n",
    " 2.234,   \n",
    " 2.264,   \n",
    " 2.294,   \n",
    " 2.323,   \n",
    " 2.353,   \n",
    " 2.382,   \n",
    " 2.412,   \n",
    " 2.442,   \n",
    " 2.471,   \n",
    " 2.501,   \n",
    " 2.531,   \n",
    " 2.560,   \n",
    " 2.589,   \n",
    " 2.619,   \n",
    " 2.649,   \n",
    " 2.679,   \n",
    " 2.708,   \n",
    " 2.738,   \n",
    " 2.767,   \n",
    " 2.797,   \n",
    " 2.827,   \n",
    " 2.856,   \n",
    " 2.886,   \n",
    "]\n",
    "\n"
   ]
  },
  {
   "cell_type": "code",
   "execution_count": 44,
   "metadata": {},
   "outputs": [
    {
     "output_type": "execute_result",
     "data": {
      "text/plain": [
       "      Walkable Cities\n",
       "2014            1.506\n",
       "2015            1.523\n",
       "2016            1.540\n",
       "2017            1.557\n",
       "2018            1.573\n",
       "2019            1.672\n",
       "2020            1.702\n",
       "2021            1.731\n",
       "2022            1.761\n",
       "2023            1.790\n",
       "2024            1.820\n",
       "2025            1.850\n",
       "2026            1.879\n",
       "2027            1.909\n",
       "2028            1.938\n",
       "2029            1.968\n",
       "2030            1.998\n",
       "2031            2.027\n",
       "2032            2.057\n",
       "2033            2.086\n",
       "2034            2.116\n",
       "2035            2.146\n",
       "2036            2.175\n",
       "2037            2.205\n",
       "2038            2.234\n",
       "2039            2.264\n",
       "2040            2.294\n",
       "2041            2.323\n",
       "2042            2.353\n",
       "2043            2.382\n",
       "2044            2.412\n",
       "2045            2.442\n",
       "2046            2.471\n",
       "2047            2.501\n",
       "2048            2.531\n",
       "2049            2.560\n",
       "2050            2.589\n",
       "2051            2.619\n",
       "2052            2.649\n",
       "2053            2.679\n",
       "2054            2.708\n",
       "2055            2.738\n",
       "2056            2.767\n",
       "2057            2.797\n",
       "2058            2.827\n",
       "2059            2.856\n",
       "2060            2.886"
      ],
      "text/html": "<div>\n<style scoped>\n    .dataframe tbody tr th:only-of-type {\n        vertical-align: middle;\n    }\n\n    .dataframe tbody tr th {\n        vertical-align: top;\n    }\n\n    .dataframe thead th {\n        text-align: right;\n    }\n</style>\n<table border=\"1\" class=\"dataframe\">\n  <thead>\n    <tr style=\"text-align: right;\">\n      <th></th>\n      <th>Walkable Cities</th>\n    </tr>\n  </thead>\n  <tbody>\n    <tr>\n      <th>2014</th>\n      <td>1.506</td>\n    </tr>\n    <tr>\n      <th>2015</th>\n      <td>1.523</td>\n    </tr>\n    <tr>\n      <th>2016</th>\n      <td>1.540</td>\n    </tr>\n    <tr>\n      <th>2017</th>\n      <td>1.557</td>\n    </tr>\n    <tr>\n      <th>2018</th>\n      <td>1.573</td>\n    </tr>\n    <tr>\n      <th>2019</th>\n      <td>1.672</td>\n    </tr>\n    <tr>\n      <th>2020</th>\n      <td>1.702</td>\n    </tr>\n    <tr>\n      <th>2021</th>\n      <td>1.731</td>\n    </tr>\n    <tr>\n      <th>2022</th>\n      <td>1.761</td>\n    </tr>\n    <tr>\n      <th>2023</th>\n      <td>1.790</td>\n    </tr>\n    <tr>\n      <th>2024</th>\n      <td>1.820</td>\n    </tr>\n    <tr>\n      <th>2025</th>\n      <td>1.850</td>\n    </tr>\n    <tr>\n      <th>2026</th>\n      <td>1.879</td>\n    </tr>\n    <tr>\n      <th>2027</th>\n      <td>1.909</td>\n    </tr>\n    <tr>\n      <th>2028</th>\n      <td>1.938</td>\n    </tr>\n    <tr>\n      <th>2029</th>\n      <td>1.968</td>\n    </tr>\n    <tr>\n      <th>2030</th>\n      <td>1.998</td>\n    </tr>\n    <tr>\n      <th>2031</th>\n      <td>2.027</td>\n    </tr>\n    <tr>\n      <th>2032</th>\n      <td>2.057</td>\n    </tr>\n    <tr>\n      <th>2033</th>\n      <td>2.086</td>\n    </tr>\n    <tr>\n      <th>2034</th>\n      <td>2.116</td>\n    </tr>\n    <tr>\n      <th>2035</th>\n      <td>2.146</td>\n    </tr>\n    <tr>\n      <th>2036</th>\n      <td>2.175</td>\n    </tr>\n    <tr>\n      <th>2037</th>\n      <td>2.205</td>\n    </tr>\n    <tr>\n      <th>2038</th>\n      <td>2.234</td>\n    </tr>\n    <tr>\n      <th>2039</th>\n      <td>2.264</td>\n    </tr>\n    <tr>\n      <th>2040</th>\n      <td>2.294</td>\n    </tr>\n    <tr>\n      <th>2041</th>\n      <td>2.323</td>\n    </tr>\n    <tr>\n      <th>2042</th>\n      <td>2.353</td>\n    </tr>\n    <tr>\n      <th>2043</th>\n      <td>2.382</td>\n    </tr>\n    <tr>\n      <th>2044</th>\n      <td>2.412</td>\n    </tr>\n    <tr>\n      <th>2045</th>\n      <td>2.442</td>\n    </tr>\n    <tr>\n      <th>2046</th>\n      <td>2.471</td>\n    </tr>\n    <tr>\n      <th>2047</th>\n      <td>2.501</td>\n    </tr>\n    <tr>\n      <th>2048</th>\n      <td>2.531</td>\n    </tr>\n    <tr>\n      <th>2049</th>\n      <td>2.560</td>\n    </tr>\n    <tr>\n      <th>2050</th>\n      <td>2.589</td>\n    </tr>\n    <tr>\n      <th>2051</th>\n      <td>2.619</td>\n    </tr>\n    <tr>\n      <th>2052</th>\n      <td>2.649</td>\n    </tr>\n    <tr>\n      <th>2053</th>\n      <td>2.679</td>\n    </tr>\n    <tr>\n      <th>2054</th>\n      <td>2.708</td>\n    </tr>\n    <tr>\n      <th>2055</th>\n      <td>2.738</td>\n    </tr>\n    <tr>\n      <th>2056</th>\n      <td>2.767</td>\n    </tr>\n    <tr>\n      <th>2057</th>\n      <td>2.797</td>\n    </tr>\n    <tr>\n      <th>2058</th>\n      <td>2.827</td>\n    </tr>\n    <tr>\n      <th>2059</th>\n      <td>2.856</td>\n    </tr>\n    <tr>\n      <th>2060</th>\n      <td>2.886</td>\n    </tr>\n  </tbody>\n</table>\n</div>"
     },
     "metadata": {},
     "execution_count": 44
    }
   ],
   "source": [
    "import pandas as pd\n",
    "pd.DataFrame(colG, columns=['Walkable Cities'], index=range(2014, 2061))"
   ]
  },
  {
   "cell_type": "code",
   "execution_count": null,
   "metadata": {},
   "outputs": [],
   "source": []
  }
 ]
}